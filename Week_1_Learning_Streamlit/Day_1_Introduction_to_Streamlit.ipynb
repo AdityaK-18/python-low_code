{
 "cells": [
  {
   "cell_type": "markdown",
   "metadata": {},
   "source": [
    "Goal: Familiarize yourself with Streamlit and set up the environment.\n",
    "\n",
    "Tasks:\n",
    "1. Install Streamlit.\n",
    "2. Create a simple \"Hello World\" app using st.write(), st.header(), and st.text().\n",
    "\n",
    "Outcome: A basic Streamlit app is set up and running on your machine.\n"
   ]
  },
  {
   "cell_type": "code",
   "execution_count": null,
   "metadata": {
    "vscode": {
     "languageId": "plaintext"
    }
   },
   "outputs": [],
   "source": [
    "pip install streamlit"
   ]
  },
  {
   "cell_type": "markdown",
   "metadata": {},
   "source": [
    "Day 2: Displaying Data Types in Streamlit.\n",
    "\n",
    "Goal: Work with different data display formats and integrate a SQLite database.\n",
    "\n",
    "Tasks:\n",
    "1. Load a small dataset (CSV or manually created) into a Pandas DataFrame.\n",
    "2. Save the dataset in a SQLite database.\n",
    "3. Display the dataset in Streamlit using st.dataframe() and st.table().\n",
    "4. Create visualizations such as bar charts, pie charts, or histograms.\n",
    "\n",
    "Outcome: A Streamlit app that displays and visualizes tabular data interactively."
   ]
  },
  {
   "cell_type": "code",
   "execution_count": null,
   "metadata": {
    "vscode": {
     "languageId": "plaintext"
    }
   },
   "outputs": [],
   "source": []
  },
  {
   "cell_type": "markdown",
   "metadata": {},
   "source": [
    "Day 3: Streamlit Widgets.\n",
    "\n",
    "Goal: Use interactive widgets to capture user input.\n",
    "\n",
    "Tasks:\n",
    "1. Build an interactive form for student registration with:\n",
    "2. Name: st.text_input()\n",
    "3. Age: st.slider()\n",
    "4. Gender: st.radio()\n",
    "5. Admission type: st.selectbox()\n",
    "6. Add a \"Submit\" button to save user input in an SQLite database.\n",
    "\n",
    "Outcome: A functional form-based app that collects and stores user input."
   ]
  },
  {
   "cell_type": "code",
   "execution_count": null,
   "metadata": {
    "vscode": {
     "languageId": "plaintext"
    }
   },
   "outputs": [],
   "source": []
  },
  {
   "cell_type": "markdown",
   "metadata": {},
   "source": [
    "Day 4: Visualization in Streamlit\n",
    "Goal: Create and display interactive visualizations.\n",
    "Tasks:\n",
    "Display simple plots (e.g., bar chart of student age distribution) using st.pyplot() or st.plotly_chart().\n",
    "Add interactivity, such as filtering data by gender or age.\n",
    "Outcome: An interactive dashboard with dynamic visualizations."
   ]
  },
  {
   "cell_type": "code",
   "execution_count": null,
   "metadata": {
    "vscode": {
     "languageId": "plaintext"
    }
   },
   "outputs": [],
   "source": []
  },
  {
   "cell_type": "markdown",
   "metadata": {},
   "source": [
    "Day 5: Layout and Organization\n",
    "Goal: Design a clean and organized app interface.\n",
    "Tasks:\n",
    "Use st.sidebar for navigation and inputs (e.g., form placement).\n",
    "Organize the main content with st.columns() to display data and graphs side by side.\n",
    "Outcome: A well-structured app with a polished layout."
   ]
  },
  {
   "cell_type": "code",
   "execution_count": null,
   "metadata": {
    "vscode": {
     "languageId": "plaintext"
    }
   },
   "outputs": [],
   "source": []
  },
  {
   "cell_type": "markdown",
   "metadata": {},
   "source": [
    "Day 6: Deploying Streamlit Apps\n",
    "Goal: Learn to deploy your app online.\n",
    "Tasks:\n",
    "Prepare the app for deployment (debugging and ensuring it works as intended).\n",
    "Deploy the app on a cloud platform like AWS or Azure.\n",
    "Share the app's public URL.\n",
    "Outcome: A live, web-accessible Streamlit app."
   ]
  },
  {
   "cell_type": "code",
   "execution_count": null,
   "metadata": {
    "vscode": {
     "languageId": "plaintext"
    }
   },
   "outputs": [],
   "source": []
  },
  {
   "cell_type": "markdown",
   "metadata": {},
   "source": [
    "Day 7: Project Day\n",
    "Goal: Apply everything you've learned in a practical project.\n",
    "Project: Build a College Conference Participant Data Entry App:\n",
    "Features:\n",
    "Input participant details (name, age, gender, admission type).\n",
    "Save the data to an SQLite database.\n",
    "View and filter stored data within the app.\n",
    "Outcome: A complete, functional conference management system for data input, storage, and viewing."
   ]
  }
 ],
 "metadata": {
  "language_info": {
   "name": "python"
  }
 },
 "nbformat": 4,
 "nbformat_minor": 2
}
